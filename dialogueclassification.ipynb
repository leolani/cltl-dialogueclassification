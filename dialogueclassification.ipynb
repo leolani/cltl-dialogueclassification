{
 "cells": [
  {
   "cell_type": "code",
   "execution_count": 1,
   "id": "045b4e09-52d2-403e-806b-9198ff2e5127",
   "metadata": {},
   "outputs": [],
   "source": [
    "from transformers import pipeline\n",
    "#https://huggingface.co/diwank/silicone-deberta-pair\n",
    "model = \"diwank/silicone-deberta-pair\"\n",
    "tokenizer = \"diwank/silicone-deberta-pair\"\n",
    "pip = pipeline('text-classification', model=model)"
   ]
  },
  {
   "cell_type": "code",
   "execution_count": 2,
   "id": "15598915-1e32-412f-957d-4d017a43c700",
   "metadata": {},
   "outputs": [],
   "source": [
    "# (0, 'acknowledge')\n",
    "# (1, 'answer')\n",
    "# (2, 'backchannel')\n",
    "# (3, 'reply_yes')\n",
    "# (4, 'exclaim')\n",
    "# (5, 'say')\n",
    "# (6, 'reply_no')\n",
    "# (7, 'hold')\n",
    "# (8, 'ask')\n",
    "# (9, 'intent')\n",
    "# (10, 'ask_yes_no')"
   ]
  },
  {
   "cell_type": "code",
   "execution_count": 4,
   "id": "fa3daca8-3dc3-4e04-8869-5564737522f0",
   "metadata": {},
   "outputs": [],
   "source": [
    "sentences = [\"I love cats\", \"Do you love cats?\", \"Yes, I do\", \"No, dogs\"]"
   ]
  },
  {
   "cell_type": "code",
   "execution_count": 6,
   "id": "c1ea7d41-ebbb-4005-8c2c-5244fb178af6",
   "metadata": {},
   "outputs": [
    {
     "name": "stdout",
     "output_type": "stream",
     "text": [
      "[{'label': 'LABEL_5', 'score': 0.7644516229629517}, {'label': 'LABEL_8', 'score': 0.9776815176010132}, {'label': 'LABEL_3', 'score': 0.5020651817321777}, {'label': 'LABEL_5', 'score': 0.5964227318763733}]\n"
     ]
    }
   ],
   "source": [
    "response = pip(sentences)\n",
    "print(response)"
   ]
  },
  {
   "cell_type": "code",
   "execution_count": null,
   "id": "bc63208d-2176-4c35-b49b-440bb8544248",
   "metadata": {},
   "outputs": [],
   "source": [
    "#https://github.com/DianDYu/MIDAS_dialog_act"
   ]
  },
  {
   "cell_type": "code",
   "execution_count": null,
   "id": "01296f58-6ec4-493c-ba4d-e904babd0d8e",
   "metadata": {},
   "outputs": [],
   "source": [
    "python run_classifier.py --data_dir da_data/ --bert_model output --task_name da --output_dir output --do_eval --binary_pred"
   ]
  }
 ],
 "metadata": {
  "kernelspec": {
   "display_name": "Python 3",
   "language": "python",
   "name": "python3"
  },
  "language_info": {
   "codemirror_mode": {
    "name": "ipython",
    "version": 3
   },
   "file_extension": ".py",
   "mimetype": "text/x-python",
   "name": "python",
   "nbconvert_exporter": "python",
   "pygments_lexer": "ipython3",
   "version": "3.9.7"
  }
 },
 "nbformat": 4,
 "nbformat_minor": 5
}
